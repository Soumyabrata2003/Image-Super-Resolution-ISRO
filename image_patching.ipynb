{
 "cells": [
  {
   "cell_type": "code",
   "execution_count": 10,
   "metadata": {},
   "outputs": [],
   "source": [
    "import os\n",
    "import cv2"
   ]
  },
  {
   "cell_type": "code",
   "execution_count": 44,
   "metadata": {},
   "outputs": [],
   "source": [
    "import numpy as np"
   ]
  },
  {
   "cell_type": "code",
   "execution_count": 45,
   "metadata": {},
   "outputs": [],
   "source": [
    "img_p=np.full((1000,1000),0)"
   ]
  },
  {
   "cell_type": "code",
   "execution_count": 56,
   "metadata": {},
   "outputs": [],
   "source": [
    "bb_list=[bb1,bb2,bb3,bb4,bb5] # bounding box list which contains latitudes and longitudes of patches, suppose there are 5 patches"
   ]
  },
  {
   "cell_type": "code",
   "execution_count": null,
   "metadata": {},
   "outputs": [],
   "source": [
    "img_list=[img1,img2,img3,img4,img5]  # corresdonding patches"
   ]
  },
  {
   "cell_type": "code",
   "execution_count": 55,
   "metadata": {},
   "outputs": [
    {
     "data": {
      "text/plain": [
       "True"
      ]
     },
     "execution_count": 55,
     "metadata": {},
     "output_type": "execute_result"
    }
   ],
   "source": [
    "name1=r\"C:\\Users\\Soumyabrata\\Desktop\\image_parts\\patch1.jpg\"\n",
    "name2=r\"C:\\Users\\Soumyabrata\\Desktop\\image_parts\\patch2.jpg\"\n",
    "name3=r\"C:\\Users\\Soumyabrata\\Desktop\\image_parts\\patch3.jpg\"    # visualizing patches \n",
    "name4=r\"C:\\Users\\Soumyabrata\\Desktop\\image_parts\\patch4.jpg\"\n",
    "name5=r\"C:\\Users\\Soumyabrata\\Desktop\\image_parts\\patch5.jpg\"\n",
    "cv2.imwrite(name1,img[bb1[0][0]:bb1[3][0],bb1[0][1]:bb1[1][1]])\n",
    "cv2.imwrite(name2,img[bb2[0][0]:bb2[3][0],bb2[0][1]:bb2[1][1]])\n",
    "cv2.imwrite(name3,img[bb3[0][0]:bb3[3][0],bb3[0][1]:bb3[1][1]])\n",
    "cv2.imwrite(name4,img[bb4[0][0]:bb4[3][0],bb4[0][1]:bb4[1][1]])\n",
    "cv2.imwrite(name5,img[bb5[0][0]:bb5[3][0],bb5[0][1]:bb5[1][1]])"
   ]
  },
  {
   "cell_type": "code",
   "execution_count": 57,
   "metadata": {},
   "outputs": [
    {
     "data": {
      "text/plain": [
       "True"
      ]
     },
     "execution_count": 57,
     "metadata": {},
     "output_type": "execute_result"
    }
   ],
   "source": [
    "i=0\n",
    "for bb in bb_list:\n",
    "    img_p[bb[0][0]:bb[3][0],bb[0][1]:bb[1][1]]=img_list[i][bb[0][0]:bb[3][0],bb[0][1]:bb[1][1]]\n",
    "    i+=1;\n",
    "\n",
    "name_p=r\"C:\\Users\\Soumyabrata\\Desktop\\image_parts\\patched.jpg\"\n",
    "cv2.imwrite(name_p,img_p)"
   ]
  }
 ],
 "metadata": {
  "kernelspec": {
   "display_name": "Python 3",
   "language": "python",
   "name": "python3"
  },
  "language_info": {
   "codemirror_mode": {
    "name": "ipython",
    "version": 3
   },
   "file_extension": ".py",
   "mimetype": "text/x-python",
   "name": "python",
   "nbconvert_exporter": "python",
   "pygments_lexer": "ipython3",
   "version": "3.10.3"
  },
  "orig_nbformat": 4,
  "vscode": {
   "interpreter": {
    "hash": "369f2c481f4da34e4445cda3fffd2e751bd1c4d706f27375911949ba6bb62e1c"
   }
  }
 },
 "nbformat": 4,
 "nbformat_minor": 2
}
