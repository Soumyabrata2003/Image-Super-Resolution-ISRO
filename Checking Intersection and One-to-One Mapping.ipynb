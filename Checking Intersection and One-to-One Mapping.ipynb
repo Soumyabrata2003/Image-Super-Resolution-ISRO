{
 "cells": [
  {
   "cell_type": "code",
   "execution_count": null,
   "metadata": {
    "colab": {
     "base_uri": "https://localhost:8080/"
    },
    "id": "6A7wFTfYMGe6",
    "outputId": "eb06c088-36eb-423c-a5a2-0f3914fa65bc"
   },
   "outputs": [
    {
     "name": "stdout",
     "output_type": "stream",
     "text": [
      "Drive already mounted at /content/drive; to attempt to forcibly remount, call drive.mount(\"/content/drive\", force_remount=True).\n"
     ]
    }
   ],
   "source": [
    "from google.colab import drive\n",
    "drive.mount('/content/drive')"
   ]
  },
  {
   "cell_type": "code",
   "execution_count": null,
   "metadata": {
    "colab": {
     "base_uri": "https://localhost:8080/"
    },
    "id": "KoFR-XF0Pl5F",
    "outputId": "b542e100-5e85-4ec3-88de-a1e64a536cd3"
   },
   "outputs": [
    {
     "name": "stdout",
     "output_type": "stream",
     "text": [
      "Looking in indexes: https://pypi.org/simple, https://us-python.pkg.dev/colab-wheels/public/simple/\n",
      "Requirement already satisfied: geopandas in /usr/local/lib/python3.8/dist-packages (0.12.2)\n",
      "Requirement already satisfied: pds4_tools in /usr/local/lib/python3.8/dist-packages (1.3)\n",
      "Requirement already satisfied: fiona>=1.8 in /usr/local/lib/python3.8/dist-packages (from geopandas) (1.9.0)\n",
      "Requirement already satisfied: pyproj>=2.6.1.post1 in /usr/local/lib/python3.8/dist-packages (from geopandas) (3.4.1)\n",
      "Requirement already satisfied: packaging in /usr/local/lib/python3.8/dist-packages (from geopandas) (23.0)\n",
      "Requirement already satisfied: shapely>=1.7 in /usr/local/lib/python3.8/dist-packages (from geopandas) (2.0.1)\n",
      "Requirement already satisfied: pandas>=1.0.0 in /usr/local/lib/python3.8/dist-packages (from geopandas) (1.3.5)\n",
      "Requirement already satisfied: numpy in /usr/local/lib/python3.8/dist-packages (from pds4_tools) (1.21.6)\n",
      "Requirement already satisfied: click~=8.0 in /usr/local/lib/python3.8/dist-packages (from fiona>=1.8->geopandas) (8.1.3)\n",
      "Requirement already satisfied: certifi in /usr/local/lib/python3.8/dist-packages (from fiona>=1.8->geopandas) (2022.12.7)\n",
      "Requirement already satisfied: click-plugins>=1.0 in /usr/local/lib/python3.8/dist-packages (from fiona>=1.8->geopandas) (1.1.1)\n",
      "Requirement already satisfied: cligj>=0.5 in /usr/local/lib/python3.8/dist-packages (from fiona>=1.8->geopandas) (0.7.2)\n",
      "Requirement already satisfied: munch>=2.3.2 in /usr/local/lib/python3.8/dist-packages (from fiona>=1.8->geopandas) (2.5.0)\n",
      "Requirement already satisfied: attrs>=19.2.0 in /usr/local/lib/python3.8/dist-packages (from fiona>=1.8->geopandas) (22.2.0)\n",
      "Requirement already satisfied: pytz>=2017.3 in /usr/local/lib/python3.8/dist-packages (from pandas>=1.0.0->geopandas) (2022.7.1)\n",
      "Requirement already satisfied: python-dateutil>=2.7.3 in /usr/local/lib/python3.8/dist-packages (from pandas>=1.0.0->geopandas) (2.8.2)\n",
      "Requirement already satisfied: six in /usr/local/lib/python3.8/dist-packages (from munch>=2.3.2->fiona>=1.8->geopandas) (1.15.0)\n"
     ]
    }
   ],
   "source": [
    "!pip install geopandas pds4_tools"
   ]
  },
  {
   "cell_type": "code",
   "execution_count": null,
   "metadata": {
    "id": "RoEKAr-dOaOk"
   },
   "outputs": [],
   "source": [
    "import geopandas as gpd\n",
    "from shapely.geometry import Polygon\n",
    "import pds4_tools\n",
    "import os"
   ]
  },
  {
   "cell_type": "code",
   "execution_count": null,
   "metadata": {
    "id": "dMsOoFpPOcsS"
   },
   "outputs": [],
   "source": [
    "ohr_files = {'ch2_ohr_ncp_20220129T0150171705_d_img_d18.xml':[],\n",
    "             'ch2_ohr_ncp_20220128T0018149733_d_img_d18.xml':[],\n",
    "             'ch2_ohr_ncp_20190906T1246532096_d_img_d18.xml':[],\n",
    "             'ch2_ohr_ncp_20220321T0525225877_d_img_hw1.xml':[],\n",
    "             'ch2_ohr_ncp_20220321T0326369860_d_img_d18.xml':[],\n",
    "             'ch2_ohr_ncp_20220321T0525226107_d_img_d18.xml':[],\n",
    "             'ch2_ohr_ncp_20220321T0525226030_d_img_d18.xml':[],\n",
    "             'ch2_ohr_ncp_20220321T0326369085_d_img_d18.xml':[],\n",
    "             'ch2_ohr_ncp_20220321T0326368312_d_img_hw1.xml':[],\n",
    "             'ch2_ohr_ncp_20220321T0525376958_d_img_hw1.xml':[],\n",
    "             'ch2_ohr_ncp_20220321T0525382085_d_img_hw1.xml':[],\n",
    "             'ch2_ohr_ncp_20220320T2331416822_d_img_d18.xml':[],\n",
    "             'ch2_ohr_ncp_20220320T2133025866_d_img_d18.xml':[],\n",
    "             'ch2_ohr_ncp_20211228T0323319043_d_img_d18.xml':[],\n",
    "             'ch2_ohr_ncp_20211228T0323312035_d_img_hw1.xml':[],\n",
    "             'ch2_ohr_ncp_20211228T0323312035_d_img_d18.xml':[],\n",
    "             'ch2_ohr_ncp_20211026T1929365546_d_img_d18.xml':[],\n",
    "             'ch2_ohr_ncp_20211023T0027462822_d_img_d18.xml':[],\n",
    "             'ch2_ohr_ncp_20210405T1606537227_d_img_d18.xml':[],\n",
    "             'ch2_ohr_ncp_20210405T1606536730_d_img_d18.xml':[],\n",
    "             'ch2_ohr_ncp_20210405T0640233869_d_img_d32.xml':[],\n",
    "             'ch2_ohr_ncp_20210405T0640233869_d_img_d18.xml':[],\n",
    "             'ch2_ohr_ncp_20210405T0640233469_d_img_d18.xml':[],\n",
    "             'ch2_ohr_ncp_20210405T0442095110_d_img_d32.xml':[],\n",
    "             'ch2_ohr_ncp_20210405T0442095110_d_img_d18.xml':[],\n",
    "             'ch2_ohr_ncp_20210402T0546284043_d_img_d18.xml':[],\n",
    "             'ch2_ohr_ncp_20210402T0155096873_d_img_d18.xml':[],\n",
    "             'ch2_ohr_ncp_20210401T2357376656_d_img_hw1.xml':[],\n",
    "             'ch2_ohr_ncp_20210401T2357376656_d_img_d18.xml':[],\n",
    "             'ch2_ohr_ncp_20210401T2200364910_d_img_d18.xml':[],\n",
    "             'ch2_ohr_ncp_20210331T2033243734_d_img_d18.xml':[],\n",
    "             'ch2_ohr_ncp_20200827T0619368134_d_img_d18.xml':[],\n",
    "             'ch2_ohr_ncp_20200827T0423073950_d_img_d18.xml':[],\n",
    "             'ch2_ohr_ncp_20200827T0226453039_d_img_d18.xml':[],\n",
    "             'ch2_ohr_ncp_20200827T0030107497_d_img_d18.xml':[],\n",
    "             'ch2_ohr_ncp_20200826T0853204550_d_img_d18.xml':[],\n",
    "             'ch2_ohr_ncp_20200826T0459464752_d_img_d18.xml':[],\n",
    "             'ch2_ohr_ncp_20200825T1716291272_d_img_d18.xml':[],\n",
    "             'ch2_ohr_ncp_20200825T1521048453_d_img_d18.xml':[],\n",
    "             'ch2_ohr_ncp_20200825T1322594314_d_img_d18.xml':[],\n",
    "             'ch2_ohr_ncp_20200825T1127278043_d_img_d18.xml':[],\n",
    "             'ch2_ohr_ncp_20200824T0806596861_d_img_d18.xml':[],\n",
    "             'ch2_ohr_ncp_20200229T0739312111_d_img_d18.xml':[],\n",
    "             'ch2_ohr_ncp_20200229T0938004033_d_img_d32.xml':[],\n",
    "             'ch2_ohr_ncp_20200824T1003365280_d_img_d18.xml':[]}"
   ]
  },
  {
   "cell_type": "code",
   "execution_count": null,
   "metadata": {
    "id": "qp4yq_tiPzq6"
   },
   "outputs": [],
   "source": [
    "ohr_path = \"/content/drive/MyDrive/Colab Notebooks/ohrc/\"\n",
    "tmc_path = \"/content/drive/MyDrive/Colab Notebooks/TMC2_data/\"\n",
    "tmc_files = os.listdir(tmc_path)"
   ]
  },
  {
   "cell_type": "code",
   "execution_count": null,
   "metadata": {
    "colab": {
     "base_uri": "https://localhost:8080/"
    },
    "id": "Z63XMNfovwAU",
    "outputId": "99d4ce85-9555-4767-9692-c1449b17f641"
   },
   "outputs": [
    {
     "data": {
      "text/plain": [
       "189"
      ]
     },
     "execution_count": 7,
     "metadata": {},
     "output_type": "execute_result"
    }
   ],
   "source": [
    "len([i for i in tmc_files if '.xml' in i])"
   ]
  },
  {
   "cell_type": "code",
   "execution_count": null,
   "metadata": {
    "id": "7EOam3pLQAPY"
   },
   "outputs": [],
   "source": [
    "for fi in ohr_files.keys():\n",
    "    ohr_structures = pds4_tools.read(ohr_path+fi, lazy_load=True)\n",
    "    coordinates=[min(float(ohr_structures.label.findall('.//isda:upper_left_longitude')[-1].text),360-float(ohr_structures.label.findall('.//isda:upper_left_longitude')[-1].text)),\n",
    "                 min(float(ohr_structures.label.findall('.//isda:upper_left_latitude')[-1].text),360-float(ohr_structures.label.findall('.//isda:upper_left_longitude')[-1].text)),\n",
    "                 min(float(ohr_structures.label.findall('.//isda:upper_right_longitude')[-1].text),360-float(ohr_structures.label.findall('.//isda:upper_right_longitude')[-1].text)),\n",
    "                 min(float(ohr_structures.label.findall('.//isda:upper_right_latitude')[-1].text),360-float(ohr_structures.label.findall('.//isda:upper_right_latitude')[-1].text)),\n",
    "                 min(float(ohr_structures.label.findall('.//isda:lower_right_longitude')[-1].text),360-float(ohr_structures.label.findall('.//isda:lower_right_longitude')[-1].text)),\n",
    "                 min(float(ohr_structures.label.findall('.//isda:lower_right_latitude')[-1].text),360-float(ohr_structures.label.findall('.//isda:lower_right_latitude')[-1].text)),\n",
    "                 min(float(ohr_structures.label.findall('.//isda:lower_left_longitude')[-1].text),360-float(ohr_structures.label.findall('.//isda:lower_left_longitude')[-1].text)),\n",
    "                 min(float(ohr_structures.label.findall('.//isda:lower_left_latitude')[-1].text),360-float(ohr_structures.label.findall('.//isda:lower_left_latitude')[-1].text))]\n",
    "    ohr_coords = [(coordinates[0],coordinates[1]), (coordinates[2],coordinates[3]), (coordinates[4],coordinates[5]), (coordinates[6],coordinates[7])]\n",
    "    ohr_poly = Polygon(ohr_coords)\n",
    "    ohr_quad = gpd.GeoDataFrame(geometry=[ohr_poly], crs={'init': 'epsg:4326'})  # epsg 9122 for moon\n",
    "    for tm in tmc_files:\n",
    "        if('.xml' in tm):\n",
    "            tmc_structures = pds4_tools.read(tmc_path+tm, lazy_load=True)\n",
    "            tcoordinates=[min(float(tmc_structures.label.findall('.//isda:upper_left_longitude')[-1].text),360-float(tmc_structures.label.findall('.//isda:upper_left_longitude')[-1].text)),\n",
    "                         min(float(tmc_structures.label.findall('.//isda:upper_left_latitude')[-1].text),360-float(tmc_structures.label.findall('.//isda:upper_left_longitude')[-1].text)),\n",
    "                         min(float(tmc_structures.label.findall('.//isda:upper_right_longitude')[-1].text),360-float(tmc_structures.label.findall('.//isda:upper_right_longitude')[-1].text)),\n",
    "                         min(float(tmc_structures.label.findall('.//isda:upper_right_latitude')[-1].text),360-float(tmc_structures.label.findall('.//isda:upper_right_latitude')[-1].text)),\n",
    "                         min(float(tmc_structures.label.findall('.//isda:lower_right_longitude')[-1].text),360-float(tmc_structures.label.findall('.//isda:lower_right_longitude')[-1].text)),\n",
    "                         min(float(tmc_structures.label.findall('.//isda:lower_right_latitude')[-1].text),360-float(tmc_structures.label.findall('.//isda:lower_right_latitude')[-1].text)),\n",
    "                         min(float(tmc_structures.label.findall('.//isda:lower_left_longitude')[-1].text),360-float(tmc_structures.label.findall('.//isda:lower_left_longitude')[-1].text)),\n",
    "                         min(float(tmc_structures.label.findall('.//isda:lower_left_latitude')[-1].text),360-float(tmc_structures.label.findall('.//isda:lower_left_latitude')[-1].text))]\n",
    "            tmc_coords = [(tcoordinates[0],tcoordinates[1]), (tcoordinates[2],tcoordinates[3]), (tcoordinates[4],tcoordinates[5]), (tcoordinates[6],tcoordinates[7])]\n",
    "            tmc_poly = Polygon(tmc_coords)\n",
    "            tmc_quad = gpd.GeoDataFrame(geometry=[tmc_poly], crs={'init': 'epsg:4326'})\n",
    "            try:\n",
    "              if (ohr_quad.intersects(tmc_quad)[0]==True):\n",
    "                intersection = gpd.overlay(ohr_quad, tmc_quad, how='intersection')\n",
    "                #intersection = ohr_quad.intersection(tmc_quad)\n",
    "                #percentage = intersection.area[0] / ohr_quad.area[0] * 100\n",
    "                #if(percentage>=90):\n",
    "                #ohr_files[fi].append(tm)\n",
    "                coords = intersection.geometry[0].exterior.coords\n",
    "                ohr_files[fi].append([tm,coords.xy])\n",
    "            except:\n",
    "              continue"
   ]
  },
  {
   "cell_type": "code",
   "execution_count": null,
   "metadata": {
    "id": "WdMeAB2UN3T2"
   },
   "outputs": [],
   "source": [
    "ohr_files={'ch2_ohr_ncp_20220129T0150171705_d_img_d18.xml': [],\n",
    " 'ch2_ohr_ncp_20220128T0018149733_d_img_d18.xml': [],\n",
    " 'ch2_ohr_ncp_20190906T1246532096_d_img_d18.xml': [['ch2_tmc_ndn_20201126T1610528086_d_oth_d32.xml',\n",
    "   ([71.334305, 71.445725, 70.179763, 70.179763, 71.334305],\n",
    "    [-14.323756, -14.735024, -16.163420694334008, -15.61017364745425, -14.323756])]],\n",
    " 'ch2_ohr_ncp_20220321T0525225877_d_img_hw1.xml': [['ch2_tmc_ndn_20220722T0106188066_d_oth_d32.xml',\n",
    "   ([129.007081, 129.122566, 129.130169, 129.014905, 129.007081],\n",
    "    [5.1704, 5.196323, 4.34102, 4.315163, 5.1704])]],\n",
    " 'ch2_ohr_ncp_20220321T0326369860_d_img_d18.xml': [['ch2_tmc_ndn_20220722T0106188066_d_oth_d32.xml',\n",
    "   ([129.021803, 129.114285, 129.119885, 129.02756, 129.021803],\n",
    "    [5.213378, 5.204916, 4.34752, 4.355989, 5.213378])]],\n",
    " 'ch2_ohr_ncp_20220321T0525226107_d_img_d18.xml': [['ch2_tmc_ndn_20220722T0106188066_d_oth_d32.xml',\n",
    "   ([129.00695, 129.122442, 129.130044, 129.014773, 129.00695],\n",
    "    [5.171385, 5.197311, 4.342016, 4.316157, 5.171385])]],\n",
    " 'ch2_ohr_ncp_20220321T0525226030_d_img_d18.xml': [['ch2_tmc_ndn_20220722T0106188066_d_oth_d32.xml',\n",
    "   ([129.007022, 129.122508, 129.130113, 129.014849, 129.007022],\n",
    "    [5.171245, 5.197168, 4.341872, 4.316016, 5.171245])]],\n",
    " 'ch2_ohr_ncp_20220321T0326369085_d_img_d18.xml': [['ch2_tmc_ndn_20220722T0106188066_d_oth_d32.xml',\n",
    "   ([129.021801, 129.114284, 129.119884, 129.027559, 129.021801],\n",
    "    [5.213022, 5.20456, 4.347155, 4.355623, 5.213022])]],\n",
    " 'ch2_ohr_ncp_20220321T0326368312_d_img_hw1.xml': [['ch2_tmc_ndn_20220722T0106188066_d_oth_d32.xml',\n",
    "   ([129.021808, 129.114291, 129.11989, 129.027566, 129.021808],\n",
    "    [5.212601, 5.20414, 4.346735, 4.355203, 5.212601])]],\n",
    " 'ch2_ohr_ncp_20220321T0525376958_d_img_hw1.xml': [['ch2_tmc_ndn_20220722T0106188066_d_oth_d32.xml',\n",
    "   ([129.006962, 129.122454, 129.123066, 129.007592, 129.006962],\n",
    "    [5.170156, 5.196082, 5.129503, 5.103583, 5.170156])]],\n",
    " 'ch2_ohr_ncp_20220321T0525382085_d_img_hw1.xml': [['ch2_tmc_ndn_20220722T0106188066_d_oth_d32.xml',\n",
    "   ([129.006962, 129.122454, 129.122819, 129.007338, 129.006962],\n",
    "    [5.170179, 5.196105, 5.156294, 5.130372, 5.170179])]],\n",
    " 'ch2_ohr_ncp_20220320T2331416822_d_img_d18.xml': [['ch2_tmc_ndn_20191203T1406528783_d_oth_d18.xml',\n",
    "   ([125.369698, 125.379075, 125.246256, 125.246256, 125.369698],\n",
    "    [5.924072, 5.068108, 5.045607444622324, 5.903119995903783, 5.924072])],\n",
    "  ['ch2_tmc_ndn_20220528T0126039872_d_oth_d18.xml',\n",
    "   ([125.24165500000001, 125.23201, 125.266343, 125.266343, 125.24165500000001],\n",
    "    [5.044828, 5.900702, 5.906529393890536, 5.049010336195605, 5.044828])]],\n",
    " 'ch2_ohr_ncp_20220320T2133025866_d_img_d18.xml': [['ch2_tmc_ndn_20191203T1406528783_d_oth_d18.xml',\n",
    "   ([125.259209, 125.36120600000001, 125.36832899999999, 125.266515, 125.259209],\n",
    "    [5.834326, 5.815257, 4.957728, 4.976817, 5.834326])],\n",
    "  ['ch2_tmc_ndn_20220528T0126039872_d_oth_d18.xml',\n",
    "   ([125.259209, 125.266343, 125.266343, 125.259209],\n",
    "    [5.834326, 5.832992252478013, 4.997004728988941, 5.834326])]],\n",
    " 'ch2_ohr_ncp_20211228T0323319043_d_img_d18.xml': [],\n",
    " 'ch2_ohr_ncp_20211228T0323312035_d_img_hw1.xml': [],\n",
    " 'ch2_ohr_ncp_20211228T0323312035_d_img_d18.xml': [],\n",
    " 'ch2_ohr_ncp_20211026T1929365546_d_img_d18.xml': [['ch2_tmc_ndn_20220109T1615439830_d_oth_d32.xml',\n",
    "   ([17.55598600000002, 17.341489299563083, 17.552786459850804, 17.55598600000002],\n",
    "    [-70.230699, -70.2380309754988, -70.2121862686841, -70.230699])],\n",
    "  ['ch2_tmc_ndn_20210524T1512098273_d_oth_d18.xml',\n",
    "   ([17.049149, 17.414048999999977, 17.55598600000002, 17.17608100000001, 17.049149],\n",
    "    [-69.42222, -69.409443, -70.230699, -70.243685, -69.42222])],\n",
    "  ['ch2_tmc_ndn_20220109T1022082458_d_oth_d32.xml',\n",
    "   ([17.55598600000002, 17.17608100000001, 17.15918766218412, 17.53135908848004, 17.55598600000002],\n",
    "    [-70.230699, -70.243685, -70.13435649537603, -70.08820621202192, -70.230699])]],\n",
    " 'ch2_ohr_ncp_20211023T0027462822_d_img_d18.xml': [['ch2_tmc_ndn_20220109T1615439830_d_oth_d32.xml',\n",
    "   ([32.108515, 32.248055, 32.557953, 32.430963, 32.108515],\n",
    "    [-69.682252, -68.849578, -68.858275, -69.691236, -69.682252])],\n",
    "  ['ch2_tmc_ndn_20210524T1512098273_d_oth_d18.xml',\n",
    "   ([32.108515, 32.248055, 32.557953, 32.430963, 32.108515],\n",
    "    [-69.682252, -68.849578, -68.858275, -69.691236, -69.682252])],\n",
    "  ['ch2_tmc_ndn_20220109T1022082458_d_oth_d32.xml',\n",
    "   ([32.108515, 32.248055, 32.557953, 32.430963, 32.108515],\n",
    "    [-69.682252, -68.849578, -68.858275, -69.691236, -69.682252])]],\n",
    " 'ch2_ohr_ncp_20210405T1606537227_d_img_d18.xml': [],\n",
    " 'ch2_ohr_ncp_20210405T1606536730_d_img_d18.xml': [],\n",
    " 'ch2_ohr_ncp_20210405T0640233869_d_img_d32.xml': [['ch2_tmc_ndn_20210524T1512098273_d_oth_d18.xml',\n",
    "   ([18.763923999999975, 18.48358300000001, 18.473481024954893, 18.746288860857387, 18.763923999999975],\n",
    "    [-69.12166, -69.127215, -68.75010275245967, -68.66770149892238, -69.12166])]],\n",
    " 'ch2_ohr_ncp_20210405T0640233869_d_img_d18.xml': [['ch2_tmc_ndn_20210524T1512098273_d_oth_d18.xml',\n",
    "   ([18.763923999999975, 18.48358300000001, 18.473481024954893, 18.746288860857387, 18.763923999999975],\n",
    "    [-69.12166, -69.127215, -68.75010275245967, -68.66770149892238, -69.12166])]],\n",
    " 'ch2_ohr_ncp_20210405T0640233469_d_img_d18.xml': [['ch2_tmc_ndn_20210524T1512098273_d_oth_d18.xml',\n",
    "   ([18.763840000000016, 18.483524999999986, 18.47347955585672, 18.746287047334615, 18.763840000000016],\n",
    "    [-69.119599, -69.125154, -68.75010319619888, -68.66770204669459, -69.119599])]],\n",
    " 'ch2_ohr_ncp_20210405T0442095110_d_img_d32.xml': [['ch2_tmc_ndn_20210524T1512098273_d_oth_d18.xml',\n",
    "   ([18.798513000000014, 18.51810899999998, 18.49002162312147, 18.758603063379756, 18.798513000000014],\n",
    "    [-69.121165, -69.118497, -68.7451066862042, -68.6639820099979, -69.121165])]],\n",
    " 'ch2_ohr_ncp_20210405T0442095110_d_img_d18.xml': [['ch2_tmc_ndn_20210524T1512098273_d_oth_d18.xml',\n",
    "   ([18.798513000000014, 18.51810899999998, 18.49002162312147, 18.758603063379756, 18.798513000000014],\n",
    "    [-69.121165, -69.118497, -68.7451066862042, -68.6639820099979, -69.121165])]],\n",
    " 'ch2_ohr_ncp_20210402T0546284043_d_img_d18.xml': [],\n",
    " 'ch2_ohr_ncp_20210402T0155096873_d_img_d18.xml': [],\n",
    " 'ch2_ohr_ncp_20210401T2357376656_d_img_hw1.xml': [],\n",
    " 'ch2_ohr_ncp_20210401T2357376656_d_img_d18.xml': [],\n",
    " 'ch2_ohr_ncp_20210401T2200364910_d_img_d18.xml': [],\n",
    " 'ch2_ohr_ncp_20210331T2033243734_d_img_d18.xml': [],\n",
    " 'ch2_ohr_ncp_20200827T0619368134_d_img_d18.xml': [],\n",
    " 'ch2_ohr_ncp_20200827T0423073950_d_img_d18.xml': [],\n",
    " 'ch2_ohr_ncp_20200827T0226453039_d_img_d18.xml': [['ch2_tmc_ndn_20210524T1512098273_d_oth_d18.xml',\n",
    "   ([21.123279, 20.841259, 20.782642524815703, 21.04866799163929, 21.123279],\n",
    "    [-68.750647, -68.749286, -68.05262351188327, -67.97227086414283, -68.750647])]],\n",
    " 'ch2_ohr_ncp_20200827T0030107497_d_img_d18.xml': [['ch2_tmc_ndn_20210524T1512098273_d_oth_d18.xml',\n",
    "   ([21.122556, 20.848896, 20.81274783101448, 21.073773625442, 21.122556],\n",
    "    [-68.731806, -68.737545, -68.0435302431335, -67.96468773996551, -68.731806])]],\n",
    " 'ch2_ohr_ncp_20200826T0853204550_d_img_d18.xml': [['ch2_tmc_ndn_20210524T1512098273_d_oth_d18.xml',\n",
    "   ([31.85681, 31.975172, 31.68509, 31.575842, 31.85681],\n",
    "    [-65.815683, -66.644387, -66.645939, -65.8165, -65.815683])]],\n",
    " 'ch2_ohr_ncp_20200826T0459464752_d_img_d18.xml': [['ch2_tmc_ndn_20210524T1512098273_d_oth_d18.xml',\n",
    "   ([31.958737, 32.010558, 31.738132, 31.694944, 31.958737],\n",
    "    [-65.792962, -66.62493, -66.631675, -65.800042, -65.792962])]],\n",
    " 'ch2_ohr_ncp_20200825T1716291272_d_img_d18.xml': [['ch2_tmc_ndn_20210524T1512098273_d_oth_d18.xml',\n",
    "   ([39.696512, 39.78442, 39.532475, 39.451651, 39.696512],\n",
    "    [-63.338565, -64.16989, -64.170288, -63.339232, -63.338565])]],\n",
    " 'ch2_ohr_ncp_20200825T1521048453_d_img_d18.xml': [['ch2_tmc_ndn_20220109T1615439830_d_oth_d32.xml',\n",
    "   ([41.367581, 41.505086, 41.203266, 41.076553, 41.367581],\n",
    "    [-68.334153, -69.165367, -69.165951, -68.334774, -68.334153])],\n",
    "  ['ch2_tmc_ndn_20210524T1512098273_d_oth_d18.xml',\n",
    "   ([41.367581, 41.505086, 41.203266, 41.076553, 41.367581],\n",
    "    [-68.334153, -69.165367, -69.165951, -68.334774, -68.334153])],\n",
    "  ['ch2_tmc_ndn_20220109T1022082458_d_oth_d32.xml',\n",
    "   ([41.367581, 41.505086, 41.203266, 41.076553, 41.367581],\n",
    "    [-68.334153, -69.165367, -69.165951, -68.334774, -68.334153])],\n",
    "  ['ch2_tmc_ndn_20211116T1726139902_d_oth_d18.xml',\n",
    "   ([41.367581, 41.505086, 41.203266, 41.076553, 41.367581],\n",
    "    [-68.334153, -69.165367, -69.165951, -68.334774, -68.334153])]],\n",
    " 'ch2_ohr_ncp_20200825T1322594314_d_img_d18.xml': [['ch2_tmc_ndn_20210524T1512098273_d_oth_d18.xml',\n",
    "   ([39.705735, 39.736163, 39.482354, 39.459103, 39.705735],\n",
    "    [-63.322421, -64.156265, -64.156508, -63.322785, -63.322421])]],\n",
    " 'ch2_ohr_ncp_20200825T1127278043_d_img_d18.xml': [['ch2_tmc_ndn_20220109T1615439830_d_oth_d32.xml',\n",
    "   ([41.420493, 41.482045, 41.19252, 41.141334, 41.420493],\n",
    "    [-68.35982, -69.194672, -69.197495, -68.36261, -68.35982])],\n",
    "  ['ch2_tmc_ndn_20210524T1512098273_d_oth_d18.xml',\n",
    "   ([41.420493, 41.482045, 41.19252, 41.141334, 41.420493],\n",
    "    [-68.35982, -69.194672, -69.197495, -68.36261, -68.35982])],\n",
    "  ['ch2_tmc_ndn_20220109T1022082458_d_oth_d32.xml',\n",
    "   ([41.420493, 41.482045, 41.19252, 41.141334, 41.420493],\n",
    "    [-68.35982, -69.194672, -69.197495, -68.36261, -68.35982])],\n",
    "  ['ch2_tmc_ndn_20211116T1726139902_d_oth_d18.xml',\n",
    "   ([41.420493, 41.482045, 41.19252, 41.141334, 41.420493],\n",
    "    [-68.35982, -69.194672, -69.197495, -68.36261, -68.35982])]],\n",
    " 'ch2_ohr_ncp_20200824T0806596861_d_img_d18.xml': [['ch2_tmc_ndn_20210524T1512098273_d_oth_d18.xml',\n",
    "   ([56.804725, 56.871902, 56.641651, 56.580435, 56.804725],\n",
    "    [-61.604458, -62.435771, -62.441705, -61.610358, -61.604458])]],\n",
    " 'ch2_ohr_ncp_20200229T0739312111_d_img_d18.xml': [['ch2_tmc_ndn_20210524T1512098273_d_oth_d18.xml',\n",
    "   ([43.359488, 43.625522, 43.957706, 43.709461, 43.359488],\n",
    "    [-74.357976, -73.516771, -73.52454, -74.36605, -74.357976])]],\n",
    " 'ch2_ohr_ncp_20200229T0938004033_d_img_d32.xml': [['ch2_tmc_ndn_20210524T1512098273_d_oth_d18.xml',\n",
    "   ([42.457137, 42.706306, 43.031644, 42.799376, 42.457137],\n",
    "    [-73.912522, -73.071384, -73.078883, -73.920405, -73.912522])]],\n",
    " 'ch2_ohr_ncp_20200824T1003365280_d_img_d18.xml': [['ch2_tmc_ndn_20210524T1512098273_d_oth_d18.xml',\n",
    "   ([56.807375, 56.902936, 56.666465, 56.577047, 56.807375],\n",
    "    [-61.657424, -62.486906, -62.490045, -61.660467, -61.657424])]]}"
   ]
  },
  {
   "cell_type": "code",
   "execution_count": null,
   "metadata": {
    "colab": {
     "base_uri": "https://localhost:8080/"
    },
    "id": "iGMDmYZ6RF9t",
    "outputId": "c3eb6b64-e14f-44ef-b13e-ae952473cfb0"
   },
   "outputs": [
    {
     "name": "stdout",
     "output_type": "stream",
     "text": [
      "Processing label: /content/drive/MyDrive/Colab Notebooks/ohrc/ch2_ohr_ncp_20220129T0150171705_d_img_d18.xml\n",
      "Found a Array_2D_Image structure: ARRAY_0\n",
      "Processing label: /content/drive/MyDrive/Colab Notebooks/ohrc/ch2_ohr_ncp_20220128T0018149733_d_img_d18.xml\n",
      "Found a Array_2D_Image structure: ARRAY_0\n",
      "Processing label: /content/drive/MyDrive/Colab Notebooks/ohrc/ch2_ohr_ncp_20190906T1246532096_d_img_d18.xml\n",
      "Found a Array_2D_Image structure: ARRAY_0\n"
     ]
    }
   ],
   "source": [
    "from osgeo import gdal\n",
    "import numpy as np\n",
    "from osgeo import osr\n",
    "import matplotlib.pyplot as plt\n",
    "side_length=1000\n",
    "i=0\n",
    "for ohr_file in ohr_files.keys():\n",
    "  ohr_str = pds4_tools.read(ohr_path+ohr_file, lazy_load=True)\n",
    "  ohr_data=ohr_str[0].data\n",
    "  for tmc_file in ohr_files[ohr_file]:\n",
    "    tmc_str = gdal.Open(tmc_path+tmc_file[0])\n",
    "    tmc_transform = tmc_str.GetGeoTransform()\n",
    "    band = tmc_str.GetRasterBand(1)\n",
    "    xoff = int((tmc_file[1][0][0] - tmc_transform[0]) / tmc_transform[1])\n",
    "    yoff = int((tmc_file[1][1][0] - tmc_transform[3]) / tmc_transform[5])\n",
    "    xend = int((tmc_file[1][0][1] - tmc_transform[0]) / tmc_transform[1])\n",
    "    yend = int((tmc_file[1][1][3] - tmc_transform[0]) / tmc_transform[1])\n",
    "    #xend = tmc_str.RasterXSize\n",
    "    #yend = tmc_str.RasterYSize\n",
    "    \n",
    "    ohr_xt=min(float(ohr_structures.label.findall('.//isda:upper_left_longitude')[-1].text),360-float(ohr_structures.label.findall('.//isda:upper_left_longitude')[-1].text))\n",
    "    ohr_yt=min(float(ohr_structures.label.findall('.//isda:upper_left_latitude')[-1].text),360-float(ohr_structures.label.findall('.//isda:upper_left_longitude')[-1].text))\n",
    "    xoff1 = int((tmc_file[1][0][0] - ohr_xt) / 5)\n",
    "    yoff1 = int((tmc_file[1][1][0] - ohr_yt) / 5)\n",
    "    ohr_xe = int((tmc_file[1][0][3] - ohr_xt) / 5)\n",
    "    ohr_ye = int((tmc_file[1][1][3] - ohr_yt) / 5)\n",
    "    data = np.empty((ohr_ye-yoff1,ohr_xe-xoff1))\n",
    "    for ro in range(yoff1,ohr_ye):\n",
    "      for co in range(xoff1,ohr_xe):\n",
    "        data[ro-yoff1][co-xoff1]=ohr_data[ro][co]\n",
    "\n",
    "    for x in range(xoff,xend,side_length):\n",
    "      if xoff+side_length < xend: columns = side_length\n",
    "      else: columns = xend-xoff\n",
    "      for y in range(yoff,yend,side_length):\n",
    "        if yoff + side_length < yend: rows = side_length\n",
    "        else: rows = yend - yoff\n",
    "        #data = tmc_str.ReadAsArray(xoff=xoff, yoff=yoff, xsize=columns, ysize=rows)\n",
    "        data = band.ReadAsArray(x, y,win_xsize=columns,win_ysize=rows)\n",
    "        if(data is not None): plt.imsave('/content/drive/MyDrive/Colab Notebooks/tmc/img'+str(i)+'.png', data, cmap='gray')\n",
    "        plt.imsave('/content/drive/MyDrive/Colab Notebooks/ohr/img'+str(i)+'.png', ohr_data, cmap='gray')\n",
    "        i+=1\n",
    "    ####\n",
    "    tmc_str=None\n",
    "    ohr_str=None\n",
    "    band=None"
   ]
  },
  {
   "cell_type": "code",
   "execution_count": null,
   "metadata": {
    "id": "8C3O7kj7DEIC"
   },
   "outputs": [],
   "source": []
  }
 ],
 "metadata": {
  "colab": {
   "provenance": []
  },
  "kernelspec": {
   "display_name": "Python 3 (ipykernel)",
   "language": "python",
   "name": "python3"
  },
  "language_info": {
   "codemirror_mode": {
    "name": "ipython",
    "version": 3
   },
   "file_extension": ".py",
   "mimetype": "text/x-python",
   "name": "python",
   "nbconvert_exporter": "python",
   "pygments_lexer": "ipython3",
   "version": "3.10.6"
  }
 },
 "nbformat": 4,
 "nbformat_minor": 1
}
